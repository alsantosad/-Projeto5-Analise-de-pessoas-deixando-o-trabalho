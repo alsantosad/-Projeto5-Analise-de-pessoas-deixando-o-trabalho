{
  "cells": [
    {
      "cell_type": "markdown",
      "metadata": {
        "colab_type": "text",
        "id": "view-in-github"
      },
      "source": [
        "<a href=\"https://colab.research.google.com/github/alsantosad/Projeto5-Analise-de-pessoas-deixando-o-trabalho/blob/main/Analise_de_Pessoas_deixando_a_Empresa.ipynb\" target=\"_parent\"><img src=\"https://colab.research.google.com/assets/colab-badge.svg\" alt=\"Open In Colab\"/></a>"
      ]
    },
    {
      "cell_type": "markdown",
      "metadata": {
        "id": "BtRgsl7uX5GB"
      },
      "source": [
        "# ***PROJETO INDIVIDUAL***\n",
        ">Módulo 5 – Pessoas deixando a empresa"
      ]
    },
    {
      "cell_type": "markdown",
      "metadata": {
        "id": "1lLJDmqJYHPm"
      },
      "source": [
        "### **Importando Bibliotecas e Dados**"
      ]
    },
    {
      "cell_type": "code",
      "execution_count": 43,
      "metadata": {},
      "outputs": [
        {
          "name": "stdout",
          "output_type": "stream",
          "text": [
            "Defaulting to user installation because normal site-packages is not writeable\n",
            "Requirement already satisfied: openpyxl in c:\\users\\47131502023.1\\appdata\\roaming\\python\\python311\\site-packages (3.1.2)\n",
            "Requirement already satisfied: et-xmlfile in c:\\users\\47131502023.1\\appdata\\roaming\\python\\python311\\site-packages (from openpyxl) (1.1.0)\n",
            "Note: you may need to restart the kernel to use updated packages.\n"
          ]
        }
      ],
      "source": [
        "pip install openpyxl"
      ]
    },
    {
      "cell_type": "code",
      "execution_count": 44,
      "metadata": {
        "id": "HHpmcJVyTt4L"
      },
      "outputs": [],
      "source": [
        "import pandas as pd"
      ]
    },
    {
      "cell_type": "code",
      "execution_count": 45,
      "metadata": {
        "id": "It0HIXU7WZbn"
      },
      "outputs": [],
      "source": [
        "url = ('https://github.com/alsantosad/Projeto5-Analise-de-pessoas-deixando-o-trabalho/raw/main/Data/%5BSE%5D%20%5BM5%5D%20Projeto%20Individual%20-%20FONTE%20DE%20DADOS.xlsx')\n",
        "\n",
        "# Read the Excel file from the URL\n",
        "df = pd.read_excel(url)"
      ]
    },
    {
      "cell_type": "markdown",
      "metadata": {
        "id": "kMVJiBIgYPcf"
      },
      "source": [
        "### **Analise Exploratória**"
      ]
    },
    {
      "cell_type": "markdown",
      "metadata": {
        "id": "9WwNPzPqZJFH"
      },
      "source": [
        "#### ***Entendendo os Dados***"
      ]
    },
    {
      "cell_type": "code",
      "execution_count": 46,
      "metadata": {
        "colab": {
          "base_uri": "https://localhost:8080/",
          "height": 0
        },
        "id": "VazkrRglZEhY",
        "outputId": "4c32e3d3-022d-4133-d8cb-64ba98a1ce4e"
      },
      "outputs": [
        {
          "data": {
            "text/html": [
              "<div>\n",
              "<style scoped>\n",
              "    .dataframe tbody tr th:only-of-type {\n",
              "        vertical-align: middle;\n",
              "    }\n",
              "\n",
              "    .dataframe tbody tr th {\n",
              "        vertical-align: top;\n",
              "    }\n",
              "\n",
              "    .dataframe thead th {\n",
              "        text-align: right;\n",
              "    }\n",
              "</style>\n",
              "<table border=\"1\" class=\"dataframe\">\n",
              "  <thead>\n",
              "    <tr style=\"text-align: right;\">\n",
              "      <th></th>\n",
              "      <th>Unnamed: 0</th>\n",
              "      <th>Unnamed: 1</th>\n",
              "      <th>Unnamed: 2</th>\n",
              "      <th>Unnamed: 3</th>\n",
              "      <th>Unnamed: 4</th>\n",
              "    </tr>\n",
              "  </thead>\n",
              "  <tbody>\n",
              "    <tr>\n",
              "      <th>0</th>\n",
              "      <td>NaN</td>\n",
              "      <td>NaN</td>\n",
              "      <td>NaN</td>\n",
              "      <td>NaN</td>\n",
              "      <td>NaN</td>\n",
              "    </tr>\n",
              "    <tr>\n",
              "      <th>1</th>\n",
              "      <td>NaN</td>\n",
              "      <td>Dados</td>\n",
              "      <td>NaN</td>\n",
              "      <td>NaN</td>\n",
              "      <td>NaN</td>\n",
              "    </tr>\n",
              "    <tr>\n",
              "      <th>2</th>\n",
              "      <td>NaN</td>\n",
              "      <td>NaN</td>\n",
              "      <td>NaN</td>\n",
              "      <td>NaN</td>\n",
              "      <td>NaN</td>\n",
              "    </tr>\n",
              "    <tr>\n",
              "      <th>3</th>\n",
              "      <td>NaN</td>\n",
              "      <td>NaN</td>\n",
              "      <td>Ability to impact</td>\n",
              "      <td>HRBP</td>\n",
              "      <td>Exit survey</td>\n",
              "    </tr>\n",
              "    <tr>\n",
              "      <th>4</th>\n",
              "      <td>NaN</td>\n",
              "      <td>Training</td>\n",
              "      <td>11</td>\n",
              "      <td>31</td>\n",
              "      <td>23</td>\n",
              "    </tr>\n",
              "  </tbody>\n",
              "</table>\n",
              "</div>"
            ],
            "text/plain": [
              "   Unnamed: 0 Unnamed: 1         Unnamed: 2 Unnamed: 3   Unnamed: 4\n",
              "0         NaN        NaN                NaN        NaN          NaN\n",
              "1         NaN      Dados                NaN        NaN          NaN\n",
              "2         NaN        NaN                NaN        NaN          NaN\n",
              "3         NaN        NaN  Ability to impact       HRBP  Exit survey\n",
              "4         NaN   Training                 11         31           23"
            ]
          },
          "execution_count": 46,
          "metadata": {},
          "output_type": "execute_result"
        }
      ],
      "source": [
        "df.head()"
      ]
    },
    {
      "cell_type": "code",
      "execution_count": 47,
      "metadata": {
        "colab": {
          "base_uri": "https://localhost:8080/"
        },
        "id": "oTQyj2rEZSeG",
        "outputId": "5e3fc951-8f68-48d5-f2c4-51396ff2a80a"
      },
      "outputs": [
        {
          "data": {
            "text/plain": [
              "Unnamed: 0    float64\n",
              "Unnamed: 1     object\n",
              "Unnamed: 2     object\n",
              "Unnamed: 3     object\n",
              "Unnamed: 4     object\n",
              "dtype: object"
            ]
          },
          "execution_count": 47,
          "metadata": {},
          "output_type": "execute_result"
        }
      ],
      "source": [
        "df.dtypes"
      ]
    },
    {
      "cell_type": "code",
      "execution_count": 48,
      "metadata": {
        "colab": {
          "base_uri": "https://localhost:8080/",
          "height": 0
        },
        "id": "9LMHZqgeZZ5_",
        "outputId": "791ea3e0-c719-455c-b631-5dec2e293c6d"
      },
      "outputs": [
        {
          "data": {
            "text/html": [
              "<div>\n",
              "<style scoped>\n",
              "    .dataframe tbody tr th:only-of-type {\n",
              "        vertical-align: middle;\n",
              "    }\n",
              "\n",
              "    .dataframe tbody tr th {\n",
              "        vertical-align: top;\n",
              "    }\n",
              "\n",
              "    .dataframe thead th {\n",
              "        text-align: right;\n",
              "    }\n",
              "</style>\n",
              "<table border=\"1\" class=\"dataframe\">\n",
              "  <thead>\n",
              "    <tr style=\"text-align: right;\">\n",
              "      <th></th>\n",
              "      <th>Unnamed: 0</th>\n",
              "    </tr>\n",
              "  </thead>\n",
              "  <tbody>\n",
              "    <tr>\n",
              "      <th>count</th>\n",
              "      <td>0.0</td>\n",
              "    </tr>\n",
              "    <tr>\n",
              "      <th>mean</th>\n",
              "      <td>NaN</td>\n",
              "    </tr>\n",
              "    <tr>\n",
              "      <th>std</th>\n",
              "      <td>NaN</td>\n",
              "    </tr>\n",
              "    <tr>\n",
              "      <th>min</th>\n",
              "      <td>NaN</td>\n",
              "    </tr>\n",
              "    <tr>\n",
              "      <th>25%</th>\n",
              "      <td>NaN</td>\n",
              "    </tr>\n",
              "    <tr>\n",
              "      <th>50%</th>\n",
              "      <td>NaN</td>\n",
              "    </tr>\n",
              "    <tr>\n",
              "      <th>75%</th>\n",
              "      <td>NaN</td>\n",
              "    </tr>\n",
              "    <tr>\n",
              "      <th>max</th>\n",
              "      <td>NaN</td>\n",
              "    </tr>\n",
              "  </tbody>\n",
              "</table>\n",
              "</div>"
            ],
            "text/plain": [
              "       Unnamed: 0\n",
              "count         0.0\n",
              "mean          NaN\n",
              "std           NaN\n",
              "min           NaN\n",
              "25%           NaN\n",
              "50%           NaN\n",
              "75%           NaN\n",
              "max           NaN"
            ]
          },
          "execution_count": 48,
          "metadata": {},
          "output_type": "execute_result"
        }
      ],
      "source": [
        "df.describe()"
      ]
    },
    {
      "cell_type": "code",
      "execution_count": 49,
      "metadata": {
        "colab": {
          "base_uri": "https://localhost:8080/",
          "height": 0
        },
        "id": "ec-wm0FeZpd-",
        "outputId": "c392c30e-3229-4908-bb63-624a64a192cc"
      },
      "outputs": [
        {
          "data": {
            "text/html": [
              "<div>\n",
              "<style scoped>\n",
              "    .dataframe tbody tr th:only-of-type {\n",
              "        vertical-align: middle;\n",
              "    }\n",
              "\n",
              "    .dataframe tbody tr th {\n",
              "        vertical-align: top;\n",
              "    }\n",
              "\n",
              "    .dataframe thead th {\n",
              "        text-align: right;\n",
              "    }\n",
              "</style>\n",
              "<table border=\"1\" class=\"dataframe\">\n",
              "  <thead>\n",
              "    <tr style=\"text-align: right;\">\n",
              "      <th></th>\n",
              "      <th>Unnamed: 0</th>\n",
              "      <th>Unnamed: 1</th>\n",
              "      <th>Unnamed: 2</th>\n",
              "      <th>Unnamed: 3</th>\n",
              "      <th>Unnamed: 4</th>\n",
              "    </tr>\n",
              "  </thead>\n",
              "  <tbody>\n",
              "    <tr>\n",
              "      <th>0</th>\n",
              "      <td>True</td>\n",
              "      <td>True</td>\n",
              "      <td>True</td>\n",
              "      <td>True</td>\n",
              "      <td>True</td>\n",
              "    </tr>\n",
              "    <tr>\n",
              "      <th>1</th>\n",
              "      <td>True</td>\n",
              "      <td>False</td>\n",
              "      <td>True</td>\n",
              "      <td>True</td>\n",
              "      <td>True</td>\n",
              "    </tr>\n",
              "    <tr>\n",
              "      <th>2</th>\n",
              "      <td>True</td>\n",
              "      <td>True</td>\n",
              "      <td>True</td>\n",
              "      <td>True</td>\n",
              "      <td>True</td>\n",
              "    </tr>\n",
              "    <tr>\n",
              "      <th>3</th>\n",
              "      <td>True</td>\n",
              "      <td>True</td>\n",
              "      <td>False</td>\n",
              "      <td>False</td>\n",
              "      <td>False</td>\n",
              "    </tr>\n",
              "    <tr>\n",
              "      <th>4</th>\n",
              "      <td>True</td>\n",
              "      <td>False</td>\n",
              "      <td>False</td>\n",
              "      <td>False</td>\n",
              "      <td>False</td>\n",
              "    </tr>\n",
              "    <tr>\n",
              "      <th>5</th>\n",
              "      <td>True</td>\n",
              "      <td>False</td>\n",
              "      <td>False</td>\n",
              "      <td>False</td>\n",
              "      <td>False</td>\n",
              "    </tr>\n",
              "    <tr>\n",
              "      <th>6</th>\n",
              "      <td>True</td>\n",
              "      <td>False</td>\n",
              "      <td>False</td>\n",
              "      <td>False</td>\n",
              "      <td>False</td>\n",
              "    </tr>\n",
              "    <tr>\n",
              "      <th>7</th>\n",
              "      <td>True</td>\n",
              "      <td>False</td>\n",
              "      <td>False</td>\n",
              "      <td>False</td>\n",
              "      <td>False</td>\n",
              "    </tr>\n",
              "    <tr>\n",
              "      <th>8</th>\n",
              "      <td>True</td>\n",
              "      <td>False</td>\n",
              "      <td>False</td>\n",
              "      <td>False</td>\n",
              "      <td>False</td>\n",
              "    </tr>\n",
              "    <tr>\n",
              "      <th>9</th>\n",
              "      <td>True</td>\n",
              "      <td>False</td>\n",
              "      <td>False</td>\n",
              "      <td>False</td>\n",
              "      <td>False</td>\n",
              "    </tr>\n",
              "    <tr>\n",
              "      <th>10</th>\n",
              "      <td>True</td>\n",
              "      <td>False</td>\n",
              "      <td>False</td>\n",
              "      <td>False</td>\n",
              "      <td>False</td>\n",
              "    </tr>\n",
              "    <tr>\n",
              "      <th>11</th>\n",
              "      <td>True</td>\n",
              "      <td>False</td>\n",
              "      <td>False</td>\n",
              "      <td>False</td>\n",
              "      <td>False</td>\n",
              "    </tr>\n",
              "    <tr>\n",
              "      <th>12</th>\n",
              "      <td>True</td>\n",
              "      <td>False</td>\n",
              "      <td>False</td>\n",
              "      <td>False</td>\n",
              "      <td>False</td>\n",
              "    </tr>\n",
              "    <tr>\n",
              "      <th>13</th>\n",
              "      <td>True</td>\n",
              "      <td>False</td>\n",
              "      <td>False</td>\n",
              "      <td>False</td>\n",
              "      <td>False</td>\n",
              "    </tr>\n",
              "    <tr>\n",
              "      <th>14</th>\n",
              "      <td>True</td>\n",
              "      <td>False</td>\n",
              "      <td>False</td>\n",
              "      <td>False</td>\n",
              "      <td>False</td>\n",
              "    </tr>\n",
              "  </tbody>\n",
              "</table>\n",
              "</div>"
            ],
            "text/plain": [
              "    Unnamed: 0  Unnamed: 1  Unnamed: 2  Unnamed: 3  Unnamed: 4\n",
              "0         True        True        True        True        True\n",
              "1         True       False        True        True        True\n",
              "2         True        True        True        True        True\n",
              "3         True        True       False       False       False\n",
              "4         True       False       False       False       False\n",
              "5         True       False       False       False       False\n",
              "6         True       False       False       False       False\n",
              "7         True       False       False       False       False\n",
              "8         True       False       False       False       False\n",
              "9         True       False       False       False       False\n",
              "10        True       False       False       False       False\n",
              "11        True       False       False       False       False\n",
              "12        True       False       False       False       False\n",
              "13        True       False       False       False       False\n",
              "14        True       False       False       False       False"
            ]
          },
          "execution_count": 49,
          "metadata": {},
          "output_type": "execute_result"
        }
      ],
      "source": [
        "df.isnull()"
      ]
    },
    {
      "cell_type": "code",
      "execution_count": 50,
      "metadata": {
        "colab": {
          "base_uri": "https://localhost:8080/"
        },
        "id": "Qs-a3r5_Zvk3",
        "outputId": "c8249ba6-fab3-40e6-8e1b-6e9113d74e0a"
      },
      "outputs": [
        {
          "data": {
            "text/plain": [
              "(15, 5)"
            ]
          },
          "execution_count": 50,
          "metadata": {},
          "output_type": "execute_result"
        }
      ],
      "source": [
        "df.shape"
      ]
    },
    {
      "cell_type": "markdown",
      "metadata": {
        "id": "XgclX1tfb94g"
      },
      "source": [
        "### ***Limpando os Dados***"
      ]
    },
    {
      "cell_type": "code",
      "execution_count": 51,
      "metadata": {
        "id": "hbsFjbwyXJ4n"
      },
      "outputs": [],
      "source": [
        "# Dropamos a primeira coluna com valores inutilizaveis\n",
        "df.drop(df.columns[0], axis=1, inplace=True)"
      ]
    },
    {
      "cell_type": "code",
      "execution_count": 52,
      "metadata": {
        "id": "uRxopO7UcGhn"
      },
      "outputs": [],
      "source": [
        "# Corrigimos as posições das colunas\n",
        "df.rename(columns={df.columns[0]: 'Dados', df.columns[1]: 'Ability to impact', df.columns[2]: 'HRBP', df.columns[3]: 'Exit Survey'}, inplace=True)"
      ]
    },
    {
      "cell_type": "code",
      "execution_count": 53,
      "metadata": {
        "id": "uLSElJNecH_X"
      },
      "outputs": [],
      "source": [
        "# Apagamos os valores nulos\n",
        "df.dropna(inplace=True)"
      ]
    },
    {
      "cell_type": "code",
      "execution_count": 54,
      "metadata": {
        "id": "bQ3giR8mcI1n"
      },
      "outputs": [],
      "source": [
        "# Reindexamos para reiniciar o index\n",
        "df.reset_index(drop=True, inplace=True)"
      ]
    },
    {
      "cell_type": "code",
      "execution_count": 55,
      "metadata": {
        "colab": {
          "base_uri": "https://localhost:8080/",
          "height": 0
        },
        "id": "7Lsu8aovap_o",
        "outputId": "9c940f6d-74fa-451c-b784-a7da53f97048"
      },
      "outputs": [
        {
          "data": {
            "text/html": [
              "<div>\n",
              "<style scoped>\n",
              "    .dataframe tbody tr th:only-of-type {\n",
              "        vertical-align: middle;\n",
              "    }\n",
              "\n",
              "    .dataframe tbody tr th {\n",
              "        vertical-align: top;\n",
              "    }\n",
              "\n",
              "    .dataframe thead th {\n",
              "        text-align: right;\n",
              "    }\n",
              "</style>\n",
              "<table border=\"1\" class=\"dataframe\">\n",
              "  <thead>\n",
              "    <tr style=\"text-align: right;\">\n",
              "      <th></th>\n",
              "      <th>Dados</th>\n",
              "      <th>Ability to impact</th>\n",
              "      <th>HRBP</th>\n",
              "      <th>Exit Survey</th>\n",
              "    </tr>\n",
              "  </thead>\n",
              "  <tbody>\n",
              "    <tr>\n",
              "      <th>0</th>\n",
              "      <td>Training</td>\n",
              "      <td>11</td>\n",
              "      <td>31</td>\n",
              "      <td>23</td>\n",
              "    </tr>\n",
              "    <tr>\n",
              "      <th>1</th>\n",
              "      <td>Conflict with others</td>\n",
              "      <td>10</td>\n",
              "      <td>11</td>\n",
              "      <td>15</td>\n",
              "    </tr>\n",
              "    <tr>\n",
              "      <th>2</th>\n",
              "      <td>Lack of recognition</td>\n",
              "      <td>9</td>\n",
              "      <td>65</td>\n",
              "      <td>44</td>\n",
              "    </tr>\n",
              "    <tr>\n",
              "      <th>3</th>\n",
              "      <td>Workload</td>\n",
              "      <td>8</td>\n",
              "      <td>14</td>\n",
              "      <td>39</td>\n",
              "    </tr>\n",
              "    <tr>\n",
              "      <th>4</th>\n",
              "      <td>Career advancement</td>\n",
              "      <td>7</td>\n",
              "      <td>137</td>\n",
              "      <td>171</td>\n",
              "    </tr>\n",
              "    <tr>\n",
              "      <th>5</th>\n",
              "      <td>Pay</td>\n",
              "      <td>6</td>\n",
              "      <td>16</td>\n",
              "      <td>24</td>\n",
              "    </tr>\n",
              "    <tr>\n",
              "      <th>6</th>\n",
              "      <td>Type of work</td>\n",
              "      <td>5</td>\n",
              "      <td>128</td>\n",
              "      <td>78</td>\n",
              "    </tr>\n",
              "    <tr>\n",
              "      <th>7</th>\n",
              "      <td>Career change</td>\n",
              "      <td>4</td>\n",
              "      <td>18</td>\n",
              "      <td>30</td>\n",
              "    </tr>\n",
              "    <tr>\n",
              "      <th>8</th>\n",
              "      <td>Commute</td>\n",
              "      <td>3</td>\n",
              "      <td>31</td>\n",
              "      <td>22</td>\n",
              "    </tr>\n",
              "    <tr>\n",
              "      <th>9</th>\n",
              "      <td>Relocation</td>\n",
              "      <td>2</td>\n",
              "      <td>105</td>\n",
              "      <td>37</td>\n",
              "    </tr>\n",
              "    <tr>\n",
              "      <th>10</th>\n",
              "      <td>Illness</td>\n",
              "      <td>1</td>\n",
              "      <td>9</td>\n",
              "      <td>21</td>\n",
              "    </tr>\n",
              "  </tbody>\n",
              "</table>\n",
              "</div>"
            ],
            "text/plain": [
              "                   Dados Ability to impact HRBP Exit Survey\n",
              "0               Training                11   31          23\n",
              "1   Conflict with others                10   11          15\n",
              "2    Lack of recognition                 9   65          44\n",
              "3               Workload                 8   14          39\n",
              "4     Career advancement                 7  137         171\n",
              "5                    Pay                 6   16          24\n",
              "6           Type of work                 5  128          78\n",
              "7          Career change                 4   18          30\n",
              "8                Commute                 3   31          22\n",
              "9             Relocation                 2  105          37\n",
              "10               Illness                 1    9          21"
            ]
          },
          "execution_count": 55,
          "metadata": {},
          "output_type": "execute_result"
        }
      ],
      "source": [
        "# Exibindo o Dataframe\n",
        "df"
      ]
    },
    {
      "cell_type": "markdown",
      "metadata": {
        "id": "yhY2i3MkeS8i"
      },
      "source": [
        "### ***Traduzindo todos os valores da Coluna Dados***"
      ]
    },
    {
      "cell_type": "code",
      "execution_count": 56,
      "metadata": {
        "id": "5g9Xlu4Icp1n"
      },
      "outputs": [],
      "source": [
        "def traducao_colunas(df, column_name, translation_dict):\n",
        "    \"\"\"\n",
        "    Função que traduz os valores de uma coluna do DataFrame de acordo com o dicionário de tradução fornecido.\n",
        "\n",
        "    Args:\n",
        "    df (DataFrame): O DataFrame que contém a coluna a ser traduzida.\n",
        "    column_name (str): O nome da coluna a ser traduzida.\n",
        "    traducao_dict (dict): Um dicionário onde as chaves são os valores originais da coluna\n",
        "                             e os valores são as traduções correspondentes.\n",
        "\n",
        "    Returns:\n",
        "    DataFrame: O DataFrame com os valores da coluna traduzidos.\n",
        "    \"\"\"\n",
        "    df[column_name] = df[column_name].map(traducao_dict)\n",
        "    return df"
      ]
    },
    {
      "cell_type": "code",
      "execution_count": 57,
      "metadata": {
        "colab": {
          "base_uri": "https://localhost:8080/",
          "height": 394
        },
        "id": "JDm_zv5ZeQEA",
        "outputId": "7ed6bf90-9f3d-4177-ab11-b0dc13c7efea"
      },
      "outputs": [
        {
          "data": {
            "text/html": [
              "<div>\n",
              "<style scoped>\n",
              "    .dataframe tbody tr th:only-of-type {\n",
              "        vertical-align: middle;\n",
              "    }\n",
              "\n",
              "    .dataframe tbody tr th {\n",
              "        vertical-align: top;\n",
              "    }\n",
              "\n",
              "    .dataframe thead th {\n",
              "        text-align: right;\n",
              "    }\n",
              "</style>\n",
              "<table border=\"1\" class=\"dataframe\">\n",
              "  <thead>\n",
              "    <tr style=\"text-align: right;\">\n",
              "      <th></th>\n",
              "      <th>Dados</th>\n",
              "      <th>Ability to impact</th>\n",
              "      <th>HRBP</th>\n",
              "      <th>Exit Survey</th>\n",
              "    </tr>\n",
              "  </thead>\n",
              "  <tbody>\n",
              "    <tr>\n",
              "      <th>0</th>\n",
              "      <td>Treinamento</td>\n",
              "      <td>11</td>\n",
              "      <td>31</td>\n",
              "      <td>23</td>\n",
              "    </tr>\n",
              "    <tr>\n",
              "      <th>1</th>\n",
              "      <td>Conflito com outros</td>\n",
              "      <td>10</td>\n",
              "      <td>11</td>\n",
              "      <td>15</td>\n",
              "    </tr>\n",
              "    <tr>\n",
              "      <th>2</th>\n",
              "      <td>Falta de Reconhecimento</td>\n",
              "      <td>9</td>\n",
              "      <td>65</td>\n",
              "      <td>44</td>\n",
              "    </tr>\n",
              "    <tr>\n",
              "      <th>3</th>\n",
              "      <td>Carga horária</td>\n",
              "      <td>8</td>\n",
              "      <td>14</td>\n",
              "      <td>39</td>\n",
              "    </tr>\n",
              "    <tr>\n",
              "      <th>4</th>\n",
              "      <td>Progressão de carreira</td>\n",
              "      <td>7</td>\n",
              "      <td>137</td>\n",
              "      <td>171</td>\n",
              "    </tr>\n",
              "    <tr>\n",
              "      <th>5</th>\n",
              "      <td>Remuneração</td>\n",
              "      <td>6</td>\n",
              "      <td>16</td>\n",
              "      <td>24</td>\n",
              "    </tr>\n",
              "    <tr>\n",
              "      <th>6</th>\n",
              "      <td>Tipo de trabalho</td>\n",
              "      <td>5</td>\n",
              "      <td>128</td>\n",
              "      <td>78</td>\n",
              "    </tr>\n",
              "    <tr>\n",
              "      <th>7</th>\n",
              "      <td>Mudança de carreira</td>\n",
              "      <td>4</td>\n",
              "      <td>18</td>\n",
              "      <td>30</td>\n",
              "    </tr>\n",
              "    <tr>\n",
              "      <th>8</th>\n",
              "      <td>Trajeto</td>\n",
              "      <td>3</td>\n",
              "      <td>31</td>\n",
              "      <td>22</td>\n",
              "    </tr>\n",
              "    <tr>\n",
              "      <th>9</th>\n",
              "      <td>Realocação</td>\n",
              "      <td>2</td>\n",
              "      <td>105</td>\n",
              "      <td>37</td>\n",
              "    </tr>\n",
              "    <tr>\n",
              "      <th>10</th>\n",
              "      <td>Doença</td>\n",
              "      <td>1</td>\n",
              "      <td>9</td>\n",
              "      <td>21</td>\n",
              "    </tr>\n",
              "  </tbody>\n",
              "</table>\n",
              "</div>"
            ],
            "text/plain": [
              "                      Dados Ability to impact HRBP Exit Survey\n",
              "0               Treinamento                11   31          23\n",
              "1       Conflito com outros                10   11          15\n",
              "2   Falta de Reconhecimento                 9   65          44\n",
              "3             Carga horária                 8   14          39\n",
              "4    Progressão de carreira                 7  137         171\n",
              "5               Remuneração                 6   16          24\n",
              "6          Tipo de trabalho                 5  128          78\n",
              "7       Mudança de carreira                 4   18          30\n",
              "8                   Trajeto                 3   31          22\n",
              "9                Realocação                 2  105          37\n",
              "10                   Doença                 1    9          21"
            ]
          },
          "execution_count": 57,
          "metadata": {},
          "output_type": "execute_result"
        }
      ],
      "source": [
        "# Dicionário de tradução para os valores da coluna \"Dados\"\n",
        "traducao_dict = {\n",
        "    'Training': 'Treinamento',\n",
        "    'Conflict with others': 'Conflito com outros',\n",
        "    'Lack of recognition': 'Falta de Reconhecimento',\n",
        "    'Workload': 'Carga horária',\n",
        "    'Career advancement': 'Progressão de carreira',\n",
        "    'Pay': 'Remuneração',\n",
        "    'Type of work': 'Tipo de trabalho',\n",
        "    'Career change': 'Mudança de carreira',\n",
        "    'Commute': 'Trajeto',\n",
        "    'Relocation': 'Realocação',\n",
        "    'Illness': 'Doença'\n",
        "}\n",
        "\n",
        "# Aplicando a tradução à coluna \"Dados\" do DataFrame\n",
        "df_traduzido = traducao_colunas(df, 'Dados', traducao_dict)\n",
        "\n",
        "# Exibindo o DataFrame com os valores traduzidos\n",
        "df_traduzido"
      ]
    },
    {
      "cell_type": "code",
      "execution_count": 58,
      "metadata": {},
      "outputs": [],
      "source": [
        "# Traduzindo as colunas Dados, Ability to impact, HRBP, Exit Survey\n",
        "def translate_columns(df):\n",
        "    df.rename(columns={'Dados': 'Razões de Saída', 'Ability to impact': 'Rank de Impacto', 'HRBP': 'Recursos Humanos(HRBP)',\n",
        "                       'Exit Survey': 'Pesquisa de Saída'}, inplace=True)\n",
        "    return df"
      ]
    },
    {
      "cell_type": "code",
      "execution_count": 59,
      "metadata": {},
      "outputs": [],
      "source": [
        "df_traduzido = translate_columns(df_traduzido)"
      ]
    },
    {
      "cell_type": "code",
      "execution_count": 60,
      "metadata": {},
      "outputs": [
        {
          "data": {
            "text/html": [
              "<div>\n",
              "<style scoped>\n",
              "    .dataframe tbody tr th:only-of-type {\n",
              "        vertical-align: middle;\n",
              "    }\n",
              "\n",
              "    .dataframe tbody tr th {\n",
              "        vertical-align: top;\n",
              "    }\n",
              "\n",
              "    .dataframe thead th {\n",
              "        text-align: right;\n",
              "    }\n",
              "</style>\n",
              "<table border=\"1\" class=\"dataframe\">\n",
              "  <thead>\n",
              "    <tr style=\"text-align: right;\">\n",
              "      <th></th>\n",
              "      <th>Razões de Saída</th>\n",
              "      <th>Rank de Impacto</th>\n",
              "      <th>Recursos Humanos(HRBP)</th>\n",
              "      <th>Pesquisa de Saída</th>\n",
              "    </tr>\n",
              "  </thead>\n",
              "  <tbody>\n",
              "    <tr>\n",
              "      <th>0</th>\n",
              "      <td>Treinamento</td>\n",
              "      <td>11</td>\n",
              "      <td>31</td>\n",
              "      <td>23</td>\n",
              "    </tr>\n",
              "    <tr>\n",
              "      <th>1</th>\n",
              "      <td>Conflito com outros</td>\n",
              "      <td>10</td>\n",
              "      <td>11</td>\n",
              "      <td>15</td>\n",
              "    </tr>\n",
              "    <tr>\n",
              "      <th>2</th>\n",
              "      <td>Falta de Reconhecimento</td>\n",
              "      <td>9</td>\n",
              "      <td>65</td>\n",
              "      <td>44</td>\n",
              "    </tr>\n",
              "    <tr>\n",
              "      <th>3</th>\n",
              "      <td>Carga horária</td>\n",
              "      <td>8</td>\n",
              "      <td>14</td>\n",
              "      <td>39</td>\n",
              "    </tr>\n",
              "    <tr>\n",
              "      <th>4</th>\n",
              "      <td>Progressão de carreira</td>\n",
              "      <td>7</td>\n",
              "      <td>137</td>\n",
              "      <td>171</td>\n",
              "    </tr>\n",
              "    <tr>\n",
              "      <th>5</th>\n",
              "      <td>Remuneração</td>\n",
              "      <td>6</td>\n",
              "      <td>16</td>\n",
              "      <td>24</td>\n",
              "    </tr>\n",
              "    <tr>\n",
              "      <th>6</th>\n",
              "      <td>Tipo de trabalho</td>\n",
              "      <td>5</td>\n",
              "      <td>128</td>\n",
              "      <td>78</td>\n",
              "    </tr>\n",
              "    <tr>\n",
              "      <th>7</th>\n",
              "      <td>Mudança de carreira</td>\n",
              "      <td>4</td>\n",
              "      <td>18</td>\n",
              "      <td>30</td>\n",
              "    </tr>\n",
              "    <tr>\n",
              "      <th>8</th>\n",
              "      <td>Trajeto</td>\n",
              "      <td>3</td>\n",
              "      <td>31</td>\n",
              "      <td>22</td>\n",
              "    </tr>\n",
              "    <tr>\n",
              "      <th>9</th>\n",
              "      <td>Realocação</td>\n",
              "      <td>2</td>\n",
              "      <td>105</td>\n",
              "      <td>37</td>\n",
              "    </tr>\n",
              "    <tr>\n",
              "      <th>10</th>\n",
              "      <td>Doença</td>\n",
              "      <td>1</td>\n",
              "      <td>9</td>\n",
              "      <td>21</td>\n",
              "    </tr>\n",
              "  </tbody>\n",
              "</table>\n",
              "</div>"
            ],
            "text/plain": [
              "            Razões de Saída Rank de Impacto Recursos Humanos(HRBP)  \\\n",
              "0               Treinamento              11                     31   \n",
              "1       Conflito com outros              10                     11   \n",
              "2   Falta de Reconhecimento               9                     65   \n",
              "3             Carga horária               8                     14   \n",
              "4    Progressão de carreira               7                    137   \n",
              "5               Remuneração               6                     16   \n",
              "6          Tipo de trabalho               5                    128   \n",
              "7       Mudança de carreira               4                     18   \n",
              "8                   Trajeto               3                     31   \n",
              "9                Realocação               2                    105   \n",
              "10                   Doença               1                      9   \n",
              "\n",
              "   Pesquisa de Saída  \n",
              "0                 23  \n",
              "1                 15  \n",
              "2                 44  \n",
              "3                 39  \n",
              "4                171  \n",
              "5                 24  \n",
              "6                 78  \n",
              "7                 30  \n",
              "8                 22  \n",
              "9                 37  \n",
              "10                21  "
            ]
          },
          "execution_count": 60,
          "metadata": {},
          "output_type": "execute_result"
        }
      ],
      "source": [
        "df_traduzido"
      ]
    },
    {
      "cell_type": "markdown",
      "metadata": {
        "id": "dyLTDNHceaOJ"
      },
      "source": [
        "### ***Extraindo os dados em Csv***"
      ]
    },
    {
      "cell_type": "code",
      "execution_count": 62,
      "metadata": {
        "id": "OOKBut7UbJk_"
      },
      "outputs": [
        {
          "name": "stdout",
          "output_type": "stream",
          "text": [
            "Fonte de dados traduzido com sucesso!\n"
          ]
        }
      ],
      "source": [
        "df_traduzido.to_csv('Data/FONTE DE DADOS.csv', index=False, encoding='iso-8859-1')\n",
        "print('Fonte de dados traduzido com sucesso!')"
      ]
    }
  ],
  "metadata": {
    "colab": {
      "authorship_tag": "ABX9TyOhB4pqofeIlzppg9BfXP2l",
      "include_colab_link": true,
      "provenance": []
    },
    "kernelspec": {
      "display_name": "Python 3",
      "name": "python3"
    },
    "language_info": {
      "codemirror_mode": {
        "name": "ipython",
        "version": 3
      },
      "file_extension": ".py",
      "mimetype": "text/x-python",
      "name": "python",
      "nbconvert_exporter": "python",
      "pygments_lexer": "ipython3",
      "version": "3.11.4"
    }
  },
  "nbformat": 4,
  "nbformat_minor": 0
}
